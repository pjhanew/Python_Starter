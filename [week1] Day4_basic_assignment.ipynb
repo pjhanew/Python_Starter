{
 "cells": [
  {
   "cell_type": "markdown",
   "id": "e6844b48",
   "metadata": {},
   "source": [
    "### [Q1] 리스트로 부서 내 사원들을 한 번에 모아서 출력해주세요."
   ]
  },
  {
   "cell_type": "code",
   "execution_count": 16,
   "id": "07a7eaf5",
   "metadata": {},
   "outputs": [
    {
     "data": {
      "text/plain": [
       "['김단풍', '이버들', '박바오밥']"
      ]
     },
     "execution_count": 16,
     "metadata": {},
     "output_type": "execute_result"
    }
   ],
   "source": [
    "my_team = [\"김단풍\", \"이버들\", \"박바오밥\"] #[Q1-1]\n",
    "my_team #[Q1-2]"
   ]
  },
  {
   "cell_type": "markdown",
   "id": "00324e58",
   "metadata": {},
   "source": [
    "### [Q2] 튜플을 이용해 순서가 변하지 않게 데이터를 표현해보아요."
   ]
  },
  {
   "cell_type": "code",
   "execution_count": 9,
   "id": "8915797d",
   "metadata": {},
   "outputs": [
    {
     "name": "stdout",
     "output_type": "stream",
     "text": [
      "박바오밥 사원의 성은 박 이고, 이름은 바오밥 임이 확실해.\n"
     ]
    }
   ],
   "source": [
    "name = (\"박\", \"바오밥\") #[Q2-1]\n",
    "print('박바오밥 사원의 성은', name[0], '이고, 이름은', name[1], '임이 확실해.') #[Q2-2]"
   ]
  },
  {
   "cell_type": "code",
   "execution_count": 15,
   "id": "05f8a484",
   "metadata": {},
   "outputs": [
    {
     "data": {
      "text/plain": [
       "[('김', '단풍'), ('이', '버들'), ('박', '바오밥')]"
      ]
     },
     "execution_count": 15,
     "metadata": {},
     "output_type": "execute_result"
    }
   ],
   "source": [
    "my_team2 = [(\"김\",\"단풍\"), (\"이\",\"버들\"), (\"박\",\"바오밥\")] #[Q2-3]\n",
    "my_team2 #[Q2-4]"
   ]
  },
  {
   "cell_type": "markdown",
   "id": "75d684ac",
   "metadata": {},
   "source": [
    "### [Q3] 딕셔너리를 이용해 사원들의 이름을 구분해주세요."
   ]
  },
  {
   "cell_type": "code",
   "execution_count": 18,
   "id": "82407571",
   "metadata": {},
   "outputs": [
    {
     "data": {
      "text/plain": [
       "{'이름': 'Blossom', '성': 'May'}"
      ]
     },
     "execution_count": 18,
     "metadata": {},
     "output_type": "execute_result"
    }
   ],
   "source": [
    "name2 = {\"이름\" : \"Blossom\", \"성\" : \"May\"} #[Q3-1]\n",
    "name2 #[Q3-2]"
   ]
  },
  {
   "cell_type": "code",
   "execution_count": 19,
   "id": "de116e9a",
   "metadata": {},
   "outputs": [
    {
     "data": {
      "text/plain": [
       "[{'이름': '단풍', '성': '김'},\n",
       " {'이름': '버들', '성': '이'},\n",
       " {'이름': '바오밥', '성': '박'},\n",
       " {'이름': 'Blossom', '성': 'May'}]"
      ]
     },
     "execution_count": 19,
     "metadata": {},
     "output_type": "execute_result"
    }
   ],
   "source": [
    "my_team3 = [{\"이름\" : \"단풍\", \"성\" : \"김\"}, {\"이름\" : \"버들\", \"성\" : \"이\"}, {\"이름\" : \"바오밥\", \"성\" : \"박\"}, {\"이름\" : \"Blossom\", \"성\" : \"May\"}]#[Q3-3]\n",
    "my_team3 #[Q3-4]"
   ]
  }
 ],
 "metadata": {
  "kernelspec": {
   "display_name": "python",
   "language": "python",
   "name": "py3.8"
  },
  "language_info": {
   "codemirror_mode": {
    "name": "ipython",
    "version": 3
   },
   "file_extension": ".py",
   "mimetype": "text/x-python",
   "name": "python",
   "nbconvert_exporter": "python",
   "pygments_lexer": "ipython3",
   "version": "3.10.8"
  }
 },
 "nbformat": 4,
 "nbformat_minor": 5
}
