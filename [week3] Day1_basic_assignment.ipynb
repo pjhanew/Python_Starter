{
 "cells": [
  {
   "cell_type": "code",
   "execution_count": 1,
   "id": "993edccf",
   "metadata": {},
   "outputs": [],
   "source": [
    "\"\"\"\n",
    "사전정의 데이터 셀\n",
    "\"\"\"\n",
    "members = [\n",
    "    {\n",
    "        '성': '김',\n",
    "        '이름': '이팝',\n",
    "        '소속': '나무팀',\n",
    "        '국적': '대한민국',\n",
    "        '나이': 40,\n",
    "    },\n",
    "    {\n",
    "        '성': '김',\n",
    "        '이름': '단풍',\n",
    "        '소속': '나무팀',\n",
    "        '국적': '대한민국',\n",
    "        '나이': 29,\n",
    "    },\n",
    "    {\n",
    "        '성': '이',\n",
    "        '이름': '버들',\n",
    "        '소속': '나무팀',\n",
    "        '국적': '대한민국',\n",
    "        '나이': 34,\n",
    "    },\n",
    "    {\n",
    "        '성': '박',\n",
    "        '이름': '바오밥',\n",
    "        '소속': '나무팀',\n",
    "        '국적': '대한민국',\n",
    "        '나이': 27,\n",
    "    },\n",
    "    {\n",
    "        '성': 'May',\n",
    "        '이름': 'Blossom',\n",
    "        '소속': '나무팀',\n",
    "        '국적': '미국',\n",
    "        '나이': 28,\n",
    "    },\n",
    "    {\n",
    "        '성': '김',\n",
    "        '이름': '샤프란',\n",
    "        '소속': '꽃팀',\n",
    "        '국적': '대한민국',\n",
    "        '나이': 42,\n",
    "    },\n",
    "    {\n",
    "        '성': '김',\n",
    "        '이름': '튤립',\n",
    "        '소속': '꽃팀',\n",
    "        '국적': '대한민국',\n",
    "        '나이': 37,\n",
    "    },\n",
    "    {\n",
    "        '성': '박',\n",
    "        '이름': '수선화',\n",
    "        '소속': '꽃팀',\n",
    "        '국적': '대한민국',\n",
    "        '나이': 33,\n",
    "    },\n",
    "    {\n",
    "        '성': '박',\n",
    "        '이름': '앵초',\n",
    "        '소속': '꽃팀',\n",
    "        '국적': '대한민국',\n",
    "        '나이': 28,\n",
    "    },\n",
    "    {\n",
    "        '성': 'Sharon',\n",
    "        '이름': 'Rose',\n",
    "        '소속': '꽃팀',\n",
    "        '국적': '미국',\n",
    "        '나이': 23,\n",
    "    },\n",
    "    {\n",
    "        '성': '최',\n",
    "        '이름': '매실',\n",
    "        '소속': '열매팀',\n",
    "        '국적': '대한민국',\n",
    "        '나이': 50,\n",
    "    },\n",
    "    {\n",
    "        '성': '이',\n",
    "        '이름': '자두',\n",
    "        '소속': '열매팀',\n",
    "        '국적': '대한민국',\n",
    "        '나이': 33,\n",
    "    },\n",
    "    {\n",
    "        '성': '임',\n",
    "        '이름': '키위',\n",
    "        '소속': '열매팀',\n",
    "        '국적': '대한민국',\n",
    "        '나이': 26,\n",
    "    },\n",
    "]\n",
    "\n",
    "prices = [300, 500, 350, 110, 280]"
   ]
  },
  {
   "cell_type": "markdown",
   "id": "536370bf",
   "metadata": {},
   "source": [
    "## [Q1] len을 이용해서 원하는 문자열을 my_string 변수에 저장하고 my_string 변수의 문자열의 길이를 출력해주세요."
   ]
  },
  {
   "cell_type": "code",
   "execution_count": 12,
   "id": "29460d3a",
   "metadata": {},
   "outputs": [
    {
     "name": "stdout",
     "output_type": "stream",
     "text": [
      "'파이썬 진짜로 잘 하고 싶다!!'의 길이는 17 입니다\n"
     ]
    }
   ],
   "source": [
    "my_string = \"파이썬 진짜로 잘 하고 싶다!!\"\n",
    "print(f\"'{my_string}'의 길이는 {len(my_string)} 입니다\")"
   ]
  },
  {
   "cell_type": "markdown",
   "id": "06560951",
   "metadata": {},
   "source": [
    "## [Q2] len과 for loop를 이용해서 members에 저장된 모든 사원의 이름의 길이의 합을 구하고 출력해주세요."
   ]
  },
  {
   "cell_type": "code",
   "execution_count": 15,
   "id": "06bc7dc0",
   "metadata": {},
   "outputs": [
    {
     "name": "stdout",
     "output_type": "stream",
     "text": [
      "사원의 이름 길이의 합은 36입니다\n"
     ]
    }
   ],
   "source": [
    "total_mem_len = 0\n",
    "\n",
    "for member in members:\n",
    "    total_mem_len += len(member['이름']) #len() 길이 재는 함수\n",
    "\n",
    "print(f\"사원의 이름 길이의 합은 {total_mem_len}입니다\")"
   ]
  },
  {
   "cell_type": "markdown",
   "id": "12e13fc4",
   "metadata": {},
   "source": [
    "## [Q3] 사전 정의된 데이터인 prices 변수의 sum min, max 를 구하고 출력해주세요."
   ]
  },
  {
   "cell_type": "markdown",
   "id": "8de3566a",
   "metadata": {},
   "source": [
    "### [Q3-1] 모든 상품의 가격의 합을 출력해주세요."
   ]
  },
  {
   "cell_type": "code",
   "execution_count": 19,
   "id": "88b53582",
   "metadata": {},
   "outputs": [
    {
     "name": "stdout",
     "output_type": "stream",
     "text": [
      "모든 상품 가격의 합은 1540입니다\n"
     ]
    }
   ],
   "source": [
    "print(f\"모든 상품 가격의 합은 {sum(prices)}입니다\")"
   ]
  },
  {
   "cell_type": "markdown",
   "id": "3aa29ffd",
   "metadata": {},
   "source": [
    "### [Q3-2] 가장 높은 가격을 가진 상품의 가격을 출력해주세요."
   ]
  },
  {
   "cell_type": "code",
   "execution_count": 21,
   "id": "03696249",
   "metadata": {},
   "outputs": [
    {
     "name": "stdout",
     "output_type": "stream",
     "text": [
      "가장 높은 가격을 가진 상품의 가격은 500입니다\n"
     ]
    }
   ],
   "source": [
    "print(f\"가장 높은 가격을 가진 상품의 가격은 {max(prices)}입니다\")"
   ]
  },
  {
   "cell_type": "markdown",
   "id": "817b1f75",
   "metadata": {},
   "source": [
    "### [Q3-3] 가장 낮은 가격을 가진 상품의 가격을 출력해주세요."
   ]
  },
  {
   "cell_type": "code",
   "execution_count": 22,
   "id": "abf4442a",
   "metadata": {},
   "outputs": [
    {
     "name": "stdout",
     "output_type": "stream",
     "text": [
      "가장 낮은 가격을 가진 상품의 가격은 110입니다\n"
     ]
    }
   ],
   "source": [
    "print(f\"가장 낮은 가격을 가진 상품의 가격은 {min(prices)}입니다\")"
   ]
  },
  {
   "cell_type": "code",
   "execution_count": null,
   "id": "5dd51e88",
   "metadata": {},
   "outputs": [],
   "source": []
  }
 ],
 "metadata": {
  "kernelspec": {
   "display_name": "python",
   "language": "python",
   "name": "py3.8"
  },
  "language_info": {
   "codemirror_mode": {
    "name": "ipython",
    "version": 3
   },
   "file_extension": ".py",
   "mimetype": "text/x-python",
   "name": "python",
   "nbconvert_exporter": "python",
   "pygments_lexer": "ipython3",
   "version": "3.10.8"
  }
 },
 "nbformat": 4,
 "nbformat_minor": 5
}
