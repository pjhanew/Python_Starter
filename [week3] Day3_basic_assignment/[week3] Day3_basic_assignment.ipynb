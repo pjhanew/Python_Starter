{
 "cells": [
  {
   "cell_type": "code",
   "execution_count": 1,
   "metadata": {
    "collapsed": true
   },
   "outputs": [
    {
     "name": "stdout",
     "output_type": "stream",
     "text": [
      "김튤립 사원은 MayBlossom 사원보다 나이가 많습니다.\n"
     ]
    }
   ],
   "source": [
    "import manage.compare_age as mc\n",
    "import manage.generate_introduce as mg\n",
    "import manage.team_information as team_information\n",
    "\n",
    "print(\n",
    "    mc.compare_age(\n",
    "        standard_member=team_information.members[6],\n",
    "        member_to_compare=team_information.members[4]\n",
    "    )\n",
    ")"
   ]
  },
  {
   "cell_type": "code",
   "execution_count": 2,
   "outputs": [
    {
     "name": "stdout",
     "output_type": "stream",
     "text": [
      "안녕하세요, 저는 파릇파릇한 나무팀의 김이팝입니다.\n",
      "안녕하세요, 저는 파릇파릇한 나무팀의 김단풍입니다.\n",
      "안녕하세요, 저는 파릇파릇한 나무팀의 이버들입니다.\n",
      "안녕하세요, 저는 파릇파릇한 나무팀의 박바오밥입니다.\n",
      "안녕하세요, 저는 파릇파릇한 나무팀의 Blossom May입니다.\n",
      "안녕하세요, 저는 향긋한 꽃팀의 김샤프란입니다.\n",
      "안녕하세요, 저는 향긋한 꽃팀의 김튤립입니다.\n",
      "안녕하세요, 저는 향긋한 꽃팀의 박수선화입니다.\n",
      "안녕하세요, 저는 향긋한 꽃팀의 박앵초입니다.\n",
      "안녕하세요, 저는 향긋한 꽃팀의 Rose Sharon입니다.\n",
      "안녕하세요, 저는 달콤한 열매팀의 최매실입니다.\n",
      "안녕하세요, 저는 달콤한 열매팀의 이자두입니다.\n",
      "안녕하세요, 저는 달콤한 열매팀의 임키위입니다.\n"
     ]
    }
   ],
   "source": [
    "for current_member in team_information.members:\n",
    "    print(mg.generate_introduce(current_member))"
   ],
   "metadata": {
    "collapsed": false
   }
  },
  {
   "cell_type": "code",
   "execution_count": null,
   "outputs": [],
   "source": [],
   "metadata": {
    "collapsed": false
   }
  }
 ],
 "metadata": {
  "kernelspec": {
   "display_name": "Python 3",
   "language": "python",
   "name": "python3"
  },
  "language_info": {
   "codemirror_mode": {
    "name": "ipython",
    "version": 2
   },
   "file_extension": ".py",
   "mimetype": "text/x-python",
   "name": "python",
   "nbconvert_exporter": "python",
   "pygments_lexer": "ipython2",
   "version": "2.7.6"
  }
 },
 "nbformat": 4,
 "nbformat_minor": 0
}
