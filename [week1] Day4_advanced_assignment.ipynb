{
 "cells": [
  {
   "cell_type": "code",
   "execution_count": null,
   "id": "6476e9d0",
   "metadata": {
    "pycharm": {
     "is_executing": true
    }
   },
   "outputs": [],
   "source": [
    "print('{0:3}'.format(1)) #{[파라미터의 자리숫자]:[채울문자열][채울 공간의 크기][출력할 데이터의 타입]}\n",
    "print('{0:3d}'.format(10)) # s문자열, d10진수숫자, f실수숫자, 아무것도 안넣으면 알아서 해줌\n",
    "print('{0:3}'.format(100))"
   ]
  },
  {
   "cell_type": "markdown",
   "id": "babe1127",
   "metadata": {},
   "source": [
    "### [Q1] 그럼 다음 모양을 출력해볼까요?"
   ]
  },
  {
   "cell_type": "code",
   "execution_count": 17,
   "id": "4974b968",
   "metadata": {},
   "outputs": [
    {
     "name": "stdout",
     "output_type": "stream",
     "text": [
      "*\n",
      "**\n",
      "***\n"
     ]
    }
   ],
   "source": [
    "print(\"*\")\n",
    "print(\"**\")\n",
    "print(\"***\") "
   ]
  },
  {
   "cell_type": "markdown",
   "id": "8a2dff66",
   "metadata": {},
   "source": [
    "### [Q2] 가운데 정렬을 이용하여 이등변 삼각형 모양의 별을 출력해주세요."
   ]
  },
  {
   "cell_type": "code",
   "execution_count": 19,
   "id": "663323b0",
   "metadata": {},
   "outputs": [
    {
     "name": "stdout",
     "output_type": "stream",
     "text": [
      "  *  \n",
      " * * \n",
      "* * *\n"
     ]
    }
   ],
   "source": [
    "print('{0:^5}'.format(\"*\"))\n",
    "print('{0:^5}'.format(\"* *\"))\n",
    "print('{0:^5}'.format(\"* * *\"))"
   ]
  },
  {
   "cell_type": "markdown",
   "id": "66078e9d",
   "metadata": {},
   "source": [
    "### [Q3] 트리장식 정보를 다음과 같이 출력해주세요."
   ]
  },
  {
   "cell_type": "code",
   "execution_count": 33,
   "id": "f922d6fb",
   "metadata": {},
   "outputs": [
    {
     "name": "stdout",
     "output_type": "stream",
     "text": [
      "41.36\n",
      " 2.35\n",
      "87.76\n"
     ]
    }
   ],
   "source": [
    "print('{0:=5}'.format(41.36))\n",
    "print('{0:=5}'.format(2.35))\n",
    "print('{0:=5}'.format(87.76))"
   ]
  }
 ],
 "metadata": {
  "kernelspec": {
   "display_name": "python",
   "language": "python",
   "name": "py3.8"
  },
  "language_info": {
   "codemirror_mode": {
    "name": "ipython",
    "version": 3
   },
   "file_extension": ".py",
   "mimetype": "text/x-python",
   "name": "python",
   "nbconvert_exporter": "python",
   "pygments_lexer": "ipython3",
   "version": "3.10.8"
  }
 },
 "nbformat": 4,
 "nbformat_minor": 5
}
