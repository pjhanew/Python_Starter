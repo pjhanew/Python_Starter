{
 "cells": [
  {
   "cell_type": "markdown",
   "id": "c0327513",
   "metadata": {},
   "source": [
    "### [Q1] if-elif-else 를 이용해서 김튤립 사원의 나이가 May Blossom 사원보다 많은지 적은지 출력해주세요."
   ]
  },
  {
   "cell_type": "code",
   "execution_count": 1,
   "id": "38107b92",
   "metadata": {},
   "outputs": [],
   "source": [
    "members = [\n",
    "    {\n",
    "        '성': '김',\n",
    "        '이름': '이팝',\n",
    "        '소속': '나무팀',\n",
    "        '국적': '대한민국',\n",
    "        '나이': 40,\n",
    "    },\n",
    "    {\n",
    "        '성': '김',\n",
    "        '이름': '단풍',\n",
    "        '소속': '나무팀',\n",
    "        '국적': '대한민국',\n",
    "        '나이': 29,\n",
    "    },\n",
    "    {\n",
    "        '성': '이',\n",
    "        '이름': '버들',\n",
    "        '소속': '나무팀',\n",
    "        '국적': '대한민국',\n",
    "        '나이': 34,\n",
    "    },\n",
    "    {\n",
    "        '성': '박',\n",
    "        '이름': '바오밥',\n",
    "        '소속': '나무팀',\n",
    "        '국적': '대한민국',\n",
    "        '나이': 27,\n",
    "    },\n",
    "    {\n",
    "        '성': 'May',\n",
    "        '이름': 'Blossom',\n",
    "        '소속': '나무팀',\n",
    "        '국적': '미국',\n",
    "        '나이': 28,\n",
    "    },\n",
    "    {\n",
    "        '성': '김',\n",
    "        '이름': '샤프란',\n",
    "        '소속': '꽃팀',\n",
    "        '국적': '대한민국',\n",
    "        '나이': 42,\n",
    "    },\n",
    "    {\n",
    "        '성': '김',\n",
    "        '이름': '튤립',\n",
    "        '소속': '꽃팀',\n",
    "        '국적': '대한민국',\n",
    "        '나이': 37,\n",
    "    },\n",
    "    {\n",
    "        '성': '박',\n",
    "        '이름': '수선화',\n",
    "        '소속': '꽃팀',\n",
    "        '국적': '대한민국',\n",
    "        '나이': 33,\n",
    "    },\n",
    "    {\n",
    "        '성': '박',\n",
    "        '이름': '앵초',\n",
    "        '소속': '꽃팀',\n",
    "        '국적': '대한민국',\n",
    "        '나이': 28,\n",
    "    },\n",
    "    {\n",
    "        '성': 'Sharon',\n",
    "        '이름': 'Rose',\n",
    "        '소속': '꽃팀',\n",
    "        '국적': '미국',\n",
    "        '나이': 23,\n",
    "    },\n",
    "] #사전 정의 데이터"
   ]
  },
  {
   "cell_type": "code",
   "execution_count": 2,
   "id": "850341c1",
   "metadata": {},
   "outputs": [
    {
     "name": "stdout",
     "output_type": "stream",
     "text": [
      "MayBlossom사원은 김튤립사원보다 나이가 적습니다.\n"
     ]
    }
   ],
   "source": [
    "if members[4]['나이'] > members[6]['나이'] :\n",
    "    print(members[4]['성'] + members[4]['이름'] + \"사원은 \" + members[6]['성'] + members[6]['이름']+\"사원보다 나이가 많습니다.\")\n",
    "elif members[4]['나이'] < members[6]['나이'] :\n",
    "    print(members[4]['성'] + members[4]['이름'] + \"사원은 \" + members[6]['성'] + members[6]['이름']+\"사원보다 나이가 적습니다.\")\n",
    "else :\n",
    "    print(members[4]['성'] + members[4]['이름'] + \"사원은 \" + members[6]['성'] + members[6]['이름']+\"사원과 나이가 같습니다.\")"
   ]
  },
  {
   "cell_type": "markdown",
   "id": "d6c20075",
   "metadata": {},
   "source": [
    "## [Q2] Q1에서 작성한 조건문을 변수를 사용하도록 바꿔주세요."
   ]
  },
  {
   "cell_type": "code",
   "execution_count": 3,
   "id": "f0c90794",
   "metadata": {},
   "outputs": [
    {
     "name": "stdout",
     "output_type": "stream",
     "text": [
      "Blossom사원은 튤립사원보다 나이가 적습니다.\n"
     ]
    }
   ],
   "source": [
    "standard_member = members[4]['이름']\n",
    "member_to_compare = members[6]['이름']\n",
    "if members[4]['나이'] > members[6]['나이'] :\n",
    "    print(standard_member + \"사원은 \" + member_to_compare + \"사원보다 나이가 많습니다.\")\n",
    "elif members[4]['나이'] < members[6]['나이'] :\n",
    "    print(standard_member + \"사원은 \" + member_to_compare + \"사원보다 나이가 적습니다.\")\n",
    "else :\n",
    "    print(standard_member + \"사원은 \" + member_to_compare + \"사원과 나이가 같습니다.\")"
   ]
  },
  {
   "cell_type": "markdown",
   "id": "0982d3ca",
   "metadata": {},
   "source": [
    "## [Q3] Q2에서 작성한 코드를 사용하여 elif 조건과 else 조건에 해당하는 사원이 나올 수 있도록, standard_member와 member_to_compare변수에 다른 사원을 할당해주세요. "
   ]
  },
  {
   "cell_type": "code",
   "execution_count": 4,
   "id": "b97df65d",
   "metadata": {},
   "outputs": [
    {
     "name": "stdout",
     "output_type": "stream",
     "text": [
      "튤립사원은 Blossom사원보다 나이가 많습니다.\n"
     ]
    }
   ],
   "source": [
    "standard_member = members[6]['이름']\n",
    "member_to_compare = members[4]['이름']\n",
    "if members[4]['나이'] < members[6]['나이'] :\n",
    "    print(standard_member + \"사원은 \" + member_to_compare + \"사원보다 나이가 많습니다.\")\n",
    "elif members[4]['나이'] > members[6]['나이'] :\n",
    "    print(standard_member + \"사원은 \" + member_to_compare + \"사원보다 나이가 적습니다.\")\n",
    "else :\n",
    "    print(standard_member + \"사원은 \" + member_to_compare + \"사원과 나이가 같습니다.\") #[Q3-1]"
   ]
  },
  {
   "cell_type": "code",
   "execution_count": 6,
   "id": "cd555a2b",
   "metadata": {},
   "outputs": [
    {
     "name": "stdout",
     "output_type": "stream",
     "text": [
      "Blossom사원은 앵초사원과 나이가 같습니다.\n"
     ]
    }
   ],
   "source": [
    "standard_member = members[4]['이름']\n",
    "member_to_compare = members[8]['이름']\n",
    "if members[4]['나이'] > members[8]['나이'] :\n",
    "    print(standard_member + \"사원은 \" + member_to_compare + \"사원보다 나이가 많습니다.\")\n",
    "elif members[4]['나이'] < members[8]['나이'] :\n",
    "    print(standard_member + \"사원은 \" + member_to_compare + \"사원보다 나이가 적습니다.\")\n",
    "else :\n",
    "    print(standard_member + \"사원은 \" + member_to_compare + \"사원과 나이가 같습니다.\") #[Q3-2]"
   ]
  }
 ],
 "metadata": {
  "kernelspec": {
   "display_name": "python",
   "language": "python",
   "name": "py3.8"
  },
  "language_info": {
   "codemirror_mode": {
    "name": "ipython",
    "version": 3
   },
   "file_extension": ".py",
   "mimetype": "text/x-python",
   "name": "python",
   "nbconvert_exporter": "python",
   "pygments_lexer": "ipython3",
   "version": "3.10.8"
  }
 },
 "nbformat": 4,
 "nbformat_minor": 5
}
