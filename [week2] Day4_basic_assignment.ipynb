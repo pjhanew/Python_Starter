{
 "cells": [
  {
   "cell_type": "code",
   "execution_count": 1,
   "id": "43df35fc",
   "metadata": {},
   "outputs": [],
   "source": [
    "\"\"\"\n",
    "사전정의 데이터 셀\n",
    "\"\"\"\n",
    "\n",
    "members = [\n",
    "    {\n",
    "        '성': '김',\n",
    "        '이름': '이팝',\n",
    "        '소속': '나무팀',\n",
    "        '국적': '대한민국',\n",
    "        '나이': 40,\n",
    "    },\n",
    "    {\n",
    "        '성': '김',\n",
    "        '이름': '단풍',\n",
    "        '소속': '나무팀',\n",
    "        '국적': '대한민국',\n",
    "        '나이': 29,\n",
    "    },\n",
    "    {\n",
    "        '성': '이',\n",
    "        '이름': '버들',\n",
    "        '소속': '나무팀',\n",
    "        '국적': '대한민국',\n",
    "        '나이': 34,\n",
    "    },\n",
    "    {\n",
    "        '성': '박',\n",
    "        '이름': '바오밥',\n",
    "        '소속': '나무팀',\n",
    "        '국적': '대한민국',\n",
    "        '나이': 27,\n",
    "    },\n",
    "    {\n",
    "        '성': 'May',\n",
    "        '이름': 'Blossom',\n",
    "        '소속': '나무팀',\n",
    "        '국적': '미국',\n",
    "        '나이': 28,\n",
    "    },\n",
    "    {\n",
    "        '성': '김',\n",
    "        '이름': '샤프란',\n",
    "        '소속': '꽃팀',\n",
    "        '국적': '대한민국',\n",
    "        '나이': 42,\n",
    "    },\n",
    "    {\n",
    "        '성': '김',\n",
    "        '이름': '튤립',\n",
    "        '소속': '꽃팀',\n",
    "        '국적': '대한민국',\n",
    "        '나이': 37,\n",
    "    },\n",
    "    {\n",
    "        '성': '박',\n",
    "        '이름': '수선화',\n",
    "        '소속': '꽃팀',\n",
    "        '국적': '대한민국',\n",
    "        '나이': 33,\n",
    "    },\n",
    "    {\n",
    "        '성': '박',\n",
    "        '이름': '앵초',\n",
    "        '소속': '꽃팀',\n",
    "        '국적': '대한민국',\n",
    "        '나이': 28,\n",
    "    },\n",
    "    {\n",
    "        '성': 'Sharon',\n",
    "        '이름': 'Rose',\n",
    "        '소속': '꽃팀',\n",
    "        '국적': '미국',\n",
    "        '나이': 23,\n",
    "    },\n",
    "    {\n",
    "        '성': '최',\n",
    "        '이름': '매실',\n",
    "        '소속': '열매팀',\n",
    "        '국적': '대한민국',\n",
    "        '나이': 50,\n",
    "    },\n",
    "    {\n",
    "        '성': '이',\n",
    "        '이름': '자두',\n",
    "        '소속': '열매팀',\n",
    "        '국적': '대한민국',\n",
    "        '나이': 33,\n",
    "    },\n",
    "    {\n",
    "        '성': '임',\n",
    "        '이름': '키위',\n",
    "        '소속': '열매팀',\n",
    "        '국적': '대한민국',\n",
    "        '나이': 26,\n",
    "    },\n",
    "]\n",
    "\n",
    "team_prefix = {\n",
    "    '나무팀': '파릇파릇한',\n",
    "    '꽃팀': '향긋한',\n",
    "    '열매팀': '달콤한',\n",
    "}"
   ]
  },
  {
   "cell_type": "markdown",
   "id": "805e7ab4",
   "metadata": {},
   "source": [
    "### [Q1] week2 - day1에서 만들었던 나이가 많은지 적은지 알려주는 코드를 함수화해주세요."
   ]
  },
  {
   "cell_type": "code",
   "execution_count": 6,
   "id": "5ecaca3e",
   "metadata": {},
   "outputs": [
    {
     "name": "stdout",
     "output_type": "stream",
     "text": [
      "김튤립사원은 MayBlossom사원보다 나이가 많습니다.\n"
     ]
    }
   ],
   "source": [
    "def compare_age (standard_member, member_to_compare):\n",
    "    if standard_member['나이'] > member_to_compare['나이']:\n",
    "        return f\"{standard_member['성']}{standard_member['이름']}사원은 {member_to_compare['성']}{member_to_compare['이름']}사원보다 나이가 많습니다.\"\n",
    "    elif standard_member['나이'] < member_to_compare['나이']:\n",
    "        return f\"{standard_member['성']}{standard_member['이름']}사원은 {member_to_compare['성']}{member_to_compare['이름']}사원보다 나이가 적습니다.\"\n",
    "    else:\n",
    "        return f\"{standard_member['성']}{standard_member['이름']}사원은 {member_to_compare['성']}{member_to_compare['이름']}사원과 나이가 같습니다.\"\n",
    "    \n",
    "print(compare_age(standard_member=members[6],member_to_compare=members[4]))"
   ]
  },
  {
   "cell_type": "markdown",
   "id": "d215b4b9",
   "metadata": {},
   "source": [
    "### [Q2] week2 - day2에서 만들었던 팀별 소개글을 작성하는 코드를 함수화해주세요."
   ]
  },
  {
   "cell_type": "code",
   "execution_count": 14,
   "id": "cf4207e5",
   "metadata": {},
   "outputs": [
    {
     "name": "stdout",
     "output_type": "stream",
     "text": [
      "안녕하세요, 저는 파릇파릇한 나무팀의 김이팝입니다.\n",
      "안녕하세요, 저는 파릇파릇한 나무팀의 김단풍입니다.\n",
      "안녕하세요, 저는 파릇파릇한 나무팀의 이버들입니다.\n",
      "안녕하세요, 저는 파릇파릇한 나무팀의 박바오밥입니다.\n",
      "안녕하세요, 저는 파릇파릇한 나무팀의 May Blossom입니다.\n",
      "안녕하세요, 저는 향긋한 꽃팀의 김샤프란입니다.\n",
      "안녕하세요, 저는 향긋한 꽃팀의 김튤립입니다.\n",
      "안녕하세요, 저는 향긋한 꽃팀의 박수선화입니다.\n",
      "안녕하세요, 저는 향긋한 꽃팀의 박앵초입니다.\n",
      "안녕하세요, 저는 향긋한 꽃팀의 Sharon Rose입니다.\n",
      "안녕하세요, 저는 달콤한 열매팀의 최매실입니다.\n",
      "안녕하세요, 저는 달콤한 열매팀의 이자두입니다.\n",
      "안녕하세요, 저는 달콤한 열매팀의 임키위입니다.\n"
     ]
    }
   ],
   "source": [
    "def generate_introduce (member):\n",
    "    if member['국적'] == '대한민국':\n",
    "        return f\"안녕하세요, 저는 {team_prefix[member['소속']]} {member['소속']}의 {member['성']}{member['이름']}입니다.\"\n",
    "    else:\n",
    "        return f\"안녕하세요, 저는 {team_prefix[member['소속']]} {member['소속']}의 {member['성']} {member['이름']}입니다.\"\n",
    "\n",
    "for all_member in members:\n",
    "    print(generate_introduce(all_member))"
   ]
  },
  {
   "cell_type": "code",
   "execution_count": null,
   "id": "82e615ae",
   "metadata": {},
   "outputs": [],
   "source": []
  }
 ],
 "metadata": {
  "kernelspec": {
   "display_name": "python",
   "language": "python",
   "name": "py3.8"
  },
  "language_info": {
   "codemirror_mode": {
    "name": "ipython",
    "version": 3
   },
   "file_extension": ".py",
   "mimetype": "text/x-python",
   "name": "python",
   "nbconvert_exporter": "python",
   "pygments_lexer": "ipython3",
   "version": "3.10.8"
  }
 },
 "nbformat": 4,
 "nbformat_minor": 5
}
