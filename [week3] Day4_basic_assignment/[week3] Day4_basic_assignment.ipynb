{
 "cells": [
  {
   "cell_type": "code",
   "execution_count": 6,
   "metadata": {
    "collapsed": true
   },
   "outputs": [
    {
     "name": "stdout",
     "output_type": "stream",
     "text": [
      "[{'성': '김', '이름': '이팝', '소속': '나무팀', '국적': '대한민국', '나이': 40}, {'성': '김', '이름': '단풍', '소속': '나무팀', '국적': '대한민국', '나이': 29}, {'성': '이', '이름': '버들', '소속': '나무팀', '국적': '대한민국', '나이': 34}, {'성': '박', '이름': '바오밥', '소속': '나무팀', '국적': '대한민국', '나이': 27}, {'성': 'May', '이름': 'Blossom', '소속': '나무팀', '국적': '미국', '나이': 28}, {'성': '김', '이름': '샤프란', '소속': '꽃팀', '국적': '대한민국', '나이': 42}, {'성': '김', '이름': '튤립', '소속': '꽃팀', '국적': '대한민국', '나이': 37}, {'성': '박', '이름': '수선화', '소속': '꽃팀', '국적': '대한민국', '나이': 33}, {'성': '박', '이름': '앵초', '소속': '꽃팀', '국적': '대한민국', '나이': 28}, {'성': 'Sharon', '이름': 'Rose', '소속': '꽃팀', '국적': '미국', '나이': 23}, {'성': '최', '이름': '매실', '소속': '열매팀', '국적': '대한민국', '나이': 50}, {'성': '이', '이름': '자두', '소속': '열매팀', '국적': '대한민국', '나이': 33}, {'성': '임', '이름': '키위', '소속': '열매팀', '국적': '대한민국', '나이': 26}]\n"
     ]
    }
   ],
   "source": [
    "import csv\n",
    "import manage.team_information as team_information\n",
    "\n",
    "print(team_information.members)\n",
    "\n",
    "columns = [\"성\", \"이름\", \"소속\", \"국적\", \"나이\"]\n",
    "\n",
    "with open(\"members.csv\", \"w\") as csvfile:\n",
    "    writer = csv.DictWriter(csvfile, fieldnames=columns)\n",
    "    writer.writeheader()\n",
    "    writer.writerows(team_information.members)"
   ]
  },
  {
   "cell_type": "code",
   "execution_count": 7,
   "outputs": [
    {
     "name": "stdout",
     "output_type": "stream",
     "text": [
      "{'성': '김', '이름': '이팝', '소속': '나무팀', '국적': '대한민국', '나이': '40'}\n",
      "{'성': '김', '이름': '단풍', '소속': '나무팀', '국적': '대한민국', '나이': '29'}\n",
      "{'성': '이', '이름': '버들', '소속': '나무팀', '국적': '대한민국', '나이': '34'}\n",
      "{'성': '박', '이름': '바오밥', '소속': '나무팀', '국적': '대한민국', '나이': '27'}\n",
      "{'성': 'May', '이름': 'Blossom', '소속': '나무팀', '국적': '미국', '나이': '28'}\n",
      "{'성': '김', '이름': '샤프란', '소속': '꽃팀', '국적': '대한민국', '나이': '42'}\n",
      "{'성': '김', '이름': '튤립', '소속': '꽃팀', '국적': '대한민국', '나이': '37'}\n",
      "{'성': '박', '이름': '수선화', '소속': '꽃팀', '국적': '대한민국', '나이': '33'}\n",
      "{'성': '박', '이름': '앵초', '소속': '꽃팀', '국적': '대한민국', '나이': '28'}\n",
      "{'성': 'Sharon', '이름': 'Rose', '소속': '꽃팀', '국적': '미국', '나이': '23'}\n",
      "{'성': '최', '이름': '매실', '소속': '열매팀', '국적': '대한민국', '나이': '50'}\n",
      "{'성': '이', '이름': '자두', '소속': '열매팀', '국적': '대한민국', '나이': '33'}\n",
      "{'성': '임', '이름': '키위', '소속': '열매팀', '국적': '대한민국', '나이': '26'}\n"
     ]
    }
   ],
   "source": [
    "loaded_members = []\n",
    "\n",
    "with open(\"members.csv\", \"r\") as csvfile:\n",
    "    reader = csv.DictReader(csvfile)\n",
    "\n",
    "    for row in reader:\n",
    "        print(row)\n",
    "        loaded_members.append(row) # 어팬드를 통해 loaded_members 리스트에 추가"
   ],
   "metadata": {
    "collapsed": false
   }
  }
 ],
 "metadata": {
  "kernelspec": {
   "display_name": "Python 3",
   "language": "python",
   "name": "python3"
  },
  "language_info": {
   "codemirror_mode": {
    "name": "ipython",
    "version": 2
   },
   "file_extension": ".py",
   "mimetype": "text/x-python",
   "name": "python",
   "nbconvert_exporter": "python",
   "pygments_lexer": "ipython2",
   "version": "2.7.6"
  }
 },
 "nbformat": 4,
 "nbformat_minor": 0
}
